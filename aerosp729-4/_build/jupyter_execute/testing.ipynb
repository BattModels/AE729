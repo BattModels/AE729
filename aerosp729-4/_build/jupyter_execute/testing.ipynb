{
 "cells": [
  {
   "cell_type": "markdown",
   "id": "a5c3dfb2-839b-4a6b-ba8c-793b2b5cce84",
   "metadata": {},
   "source": [
    "# M1.3 - Electrochemical Testing"
   ]
  },
  {
   "cell_type": "markdown",
   "id": "3c5c67f4-fc92-4555-bd00-602e7278de99",
   "metadata": {},
   "source": [
    "## Basic Circuit Elements"
   ]
  },
  {
   "cell_type": "markdown",
   "id": "a24162c9-bee0-4db0-8140-8ac28ba4a6b4",
   "metadata": {
    "tags": []
   },
   "source": [
    "```{margin}\n",
    "![resistor](./images/testing/resistor.png)\n",
    "```"
   ]
  },
  {
   "cell_type": "markdown",
   "id": "ee3a8a57-65e7-4811-ae98-57492a97a1ea",
   "metadata": {},
   "source": [
    "\n",
    "### Resistor\n",
    "\n",
    "A resistor dissipates electrical energy as heat and hinders the flow of electrical current in a circuit, $V = I R$."
   ]
  },
  {
   "cell_type": "markdown",
   "id": "69ed8efb-de4c-4e7f-b463-dde5c9129436",
   "metadata": {},
   "source": [
    "```{margin}\n",
    "![capacitor](./images/testing/capacitor.png)\n",
    "```"
   ]
  },
  {
   "cell_type": "markdown",
   "id": "59505caf-cc18-4f38-a2db-9b8ec4933253",
   "metadata": {},
   "source": [
    "\n",
    "### Capacitor\n",
    "\n",
    "A capacitor stores electrical energy as charge stored in the capacitor.\n",
    "\n",
    "$$Q = CV$$\n",
    "$$I = \\frac{dQ}{dt} = C \\frac{dV}{dt}$$\n",
    "$$\\quad V(t) = \\frac{1}{C} \\int I(t) \\, dt$$\n",
    "\n"
   ]
  },
  {
   "cell_type": "markdown",
   "id": "32333ef0-a99c-4015-a794-00fec6899299",
   "metadata": {},
   "source": [
    "```{margin}\n",
    "![inductor](./images/testing/inductor.png)\n",
    "```"
   ]
  },
  {
   "cell_type": "markdown",
   "id": "14802245-b7aa-45bd-a5ef-8974a1177a04",
   "metadata": {},
   "source": [
    "\n",
    "### Inductor\n",
    "\n",
    "An inductor stores electrical energy in a magnetic field.\n",
    "\n",
    "$$V = L \\frac{dI}{dt}$$\n",
    "\n",
    "$$\n",
    "I(t) = \\frac{1}{L} \\int V(t) \\ dt\n",
    "$$\n"
   ]
  },
  {
   "cell_type": "markdown",
   "id": "eaae9a54-4476-444c-a2cf-3fec546aa424",
   "metadata": {},
   "source": [
    "```{margin}\n",
    "![v_source](./images/testing/voltage_source.png)\n",
    "```"
   ]
  },
  {
   "cell_type": "markdown",
   "id": "2cbf216d-2fec-48f6-8f54-9465fb02f36f",
   "metadata": {},
   "source": [
    "\n",
    "### Voltage Source\n",
    "\n",
    "A voltage source maintains a prescribed voltage difference independent of the current drawn. $V(t) = V_{\\text{s}}$\n"
   ]
  },
  {
   "cell_type": "markdown",
   "id": "dcc98b1c-ee6f-4f48-b5b0-78fa7905c798",
   "metadata": {},
   "source": [
    "```{margin}\n",
    "![i_source](./images/testing/current_source.png)\n",
    "```"
   ]
  },
  {
   "cell_type": "markdown",
   "id": "8713caec-73f9-4f34-a4ff-4abce1288068",
   "metadata": {
    "editable": true,
    "slideshow": {
     "slide_type": ""
    },
    "tags": []
   },
   "source": [
    "\n",
    "### Current Source\n",
    "\n",
    "A current source maintains a prescribed current independent of the voltage across it. $I(t) = I_{\\text{s}}$\n"
   ]
  },
  {
   "cell_type": "markdown",
   "id": "c04d49e7-ca37-4290-88cd-38fde92b5ed9",
   "metadata": {},
   "source": [
    "## Electrochemical Testing"
   ]
  },
  {
   "cell_type": "markdown",
   "id": "b0f77549-6927-4416-aa2b-d2f496178de9",
   "metadata": {},
   "source": [
    "### Galvanostatic discharge"
   ]
  },
  {
   "cell_type": "markdown",
   "id": "31a2e212-26a4-410d-beaa-62151fff638a",
   "metadata": {},
   "source": [
    "<!-- ```{margin}\n",
    "![galvan](./images/testing/galvanostatic-2.png)\n",
    "``` -->"
   ]
  },
  {
   "cell_type": "markdown",
   "id": "65952629-c0a0-4f14-8a44-045bd31067db",
   "metadata": {},
   "source": [
    "```{margin}\n",
    "![galvan](./images/testing/galvan.png)\n",
    "```"
   ]
  },
  {
   "cell_type": "markdown",
   "id": "311c4312-577c-4731-a2c2-65638ae25cf6",
   "metadata": {},
   "source": [
    "In a galvanostatic discharge, the cell is discharged at a constant current, and the terminal voltage is recorded as a function of time. \n",
    "From this test, total capacity of the cell, the energy content, and the effective internal resistance can be extracted.  \n",
    "\n",
    "<!-- ```{image} ./images/testing/galvan.png\n",
    ":alt: galvan\n",
    ":class: bg-primary mb-1\n",
    ":width: 300px\n",
    ":align: center\n",
    "``` -->\n",
    "\n",
    "Consider the equivalent circuit with only an internal resistance, the voltage recorded is $V = V_{ocv} - I R_{int}$.  With a constant current, this can be used to extract the internal resistance.  The galvanostatic discharge for a graphite/LFP Li-ion cell is shown.\n",
    "\n",
    "![galvan_ecm](./images/testing/galvanostatic.png)\n",
    "<center><em>Galvanostatic discharge at I = 2.3 A</em></center>\n",
    "\n",
    "\n",
    "<!-- <img src=\"./images/testing/galvan.png\" alt=\"galvan\" width=\"200\"/> -->\n",
    "\n",
    "\n"
   ]
  },
  {
   "cell_type": "markdown",
   "id": "c59c0d43-a9fe-4d77-b731-a4a74fa726cf",
   "metadata": {},
   "source": [
    "### Potentiostatic Discharge\n",
    "\n",
    "In a potentiostatic discharge, the cell is held at a fixed potential below its open-circuit voltage, and the current response is recorded over time.  This technique provides insight into reaction kinetics, mass transport, and capacitance-like behavior of the system for a series R-C circuit.  \n",
    "```{margin}\n",
    "![galvan](./images/testing/series.png)\n",
    "```\n",
    "\n",
    "Under a potentiostatic discharge,\n",
    "\n",
    "$$V_{const} = V_{ocv} - I R_{ct} - \\frac{1}{C} \\int I(t) dt$$\n",
    "\n",
    "```{margin}\n",
    "we make $\\Delta V = V_{ocv} - V_{const}$.\n",
    "```\n",
    "\n",
    "We can solve for the current dynamics as:\n",
    "\n",
    "$$\\Delta V = I(t) R_{ct} +  \\frac{1}{C} \\int I(t) dt$$ \n",
    "\n",
    "Differentiating both sides gives:\n",
    "\n",
    "$$\\frac{dI}{dt} R_{ct} = -\\frac{1}{C_{dl}} I$$\n",
    "\n",
    "since $\\Delta V$ is a constant.  Solving this gives,\n",
    "\n",
    "$$\n",
    "I = I_0 \\exp \\Big(-\\frac{t}{\\tau}\\Big), \\tau = R_{ct} C_{dl}\n",
    "$$\n",
    "\n",
    "![poten_ecm](./images/testing/potentiostatic.png)\n",
    "<center><em>Potentiostatic discharge at V = 3.0 V</em></center>\n",
    "\n"
   ]
  },
  {
   "cell_type": "markdown",
   "id": "c846bb30-712d-4d81-941d-ae74537c06cf",
   "metadata": {},
   "source": [
    "### Pulse Current Profile\n",
    "\n",
    "A pulse current profile is a popular method where a constant current pulse $I_p$ for a finite duration, $t_p$ followed by a relaxation period, $t_{rest}$ where the current is set to zero. This allows the system to approach a near-equilibrium state while monitoring transient behavior.  During the pulse, the voltage decreases due to resistance and other dynamics associated with the system.\n",
    "\n",
    "```{margin}\n",
    "![pulse](./images/testing/pulse_ecm.png)\n",
    "```\n",
    "\n",
    "The measured voltage is,\n",
    "\n",
    "$$V = V_{\\text{ocv}} - I R_{\\text{int}} - V_{RC}$$\n",
    "\n",
    "Across the R-C element, Kirchoff's law gives, \n",
    "\n",
    "$$I = I_{R_{ct}} + I_{C_{dl}} = \\frac{V_{RC}}{R_{ct}} + C_{dl} \\frac{dV_{RC}}{dt}$$\n",
    "\n",
    "For a galvanostatic discharge, \n",
    "\n",
    "$$V_{RC} = IR_{\\text{ct}} \\left(1 - e^{\\frac{-t}{R_{\\text{ct}} C_{\\text{dl}}}} \\right)$$\n",
    "\n",
    "During relaxation, the voltage recovers back towards the open circuit voltage.  The instantaneous voltage recovery is from the portion associated with the internal resistance, and then the voltage associated with the R-C element relaxes as shown in the figure below.\n",
    "\n",
    "![poten_ecm](./images/testing/pulse.png)\n",
    "<center><em>Pulse current profile</em></center>"
   ]
  },
  {
   "cell_type": "markdown",
   "id": "1c1b4835-4c50-4982-a476-eb51b88e4519",
   "metadata": {},
   "source": [
    "### Galvanostatic Intermittent Titration Technique (GITT)\n",
    "\n",
    "It involves applying a series of current pulses and monitoring the resulting voltage response.  The advantage of this technique is to extract the information contained in a galvanostatic discharge along with extracting the open circuit voltage.\n",
    "\n",
    "![gitt](./images/testing/gitt.png)\n"
   ]
  },
  {
   "cell_type": "markdown",
   "id": "0071c13d-8e63-4488-8ae9-a3e368778d02",
   "metadata": {},
   "source": [
    "### Hybrid Pulse Power Characterization (HPPC)\n",
    "\n",
    "HPPC test is method designed to determine the power capability and resistance characteristics for electric vehicle applications.  A discharge pulse at a specified current, $I_d$ is applied for 10 seconds, followed by a rest period.  Then, a charge pulse, $I_c = 0.75 I_d$ is applied for 10 seconds.  This sequence is repeated at different SOC levels.  The fitting is done similar to pulse profile.\n",
    "![hppc](./images/testing/hppc.png)\n",
    "\n",
    "![zoom](./images/testing/hppc_zoom.png)\n",
    "\n",
    "\n",
    "HPPC test can be used to extract the power capability of a cell by extracting the resistance and then using a simple internal resistance model to estimate the peak current at that SOC\n",
    "\n",
    "$$I_{d,pulse~power} = \\frac{V_{ocv} - V_{min}}{R}$$\n",
    "\n",
    "then determining the power, \n",
    "\n",
    "$$P = V_{min} I_{d,pulse~power}$$\n",
    "\n",
    ".  Similarly, the charge region is determined, \n",
    "\n",
    "$$I_{c,pulse~power} = \\frac{V_{max} - V_{ocv}}{R}$$\n",
    "\n",
    "then determining the power, \n",
    "\n",
    "$$P = V_{max} I_{c,pulse~power}$$\n",
    "\n",
    ".  This is shown below:\n",
    "![hppc](./images/testing/hppc_R_power.png)\n",
    "\n"
   ]
  },
  {
   "cell_type": "markdown",
   "id": "83c2643f-693d-414d-8f44-64fad9c03898",
   "metadata": {},
   "source": [
    "### Electrochemical Impedance Spectroscopy (EIS)\n",
    "\n",
    "In EIS, we apply a small sinusoidal perturbation (voltage or current) at angular frequency $\\omega=2\\pi f$ and measure the linear response. Using complex notation,\n",
    "\n",
    "$$\n",
    "\\tilde{V}(t) = \\Re\\{ \\hat{V} e^{j\\omega t}\\}, \\qquad \n",
    "\\tilde{I}(t) = \\Re\\{ \\hat{I} e^{j\\omega t}\\},\n",
    "$$\n",
    "\n",
    "the *impedance* is the complex ratio\n",
    "\n",
    "$$\n",
    "Z(\\omega) \\equiv \\frac{\\hat{V}}{\\hat{I}} = Z'(\\omega) + j Z''(\\omega).\n",
    "$$\n",
    "\n",
    "Plots of $Z''$ vs. $Z'$ give the *Nyquist* spectrum (no frequency axis shown), and $|Z|$ and $\\angle Z$ vs. $f$ give *Bode* magnitude and phase.\n",
    "\n",
    "- Resistor $R$: $Z_R = R$.\n",
    "- Capacitor $C$: $Z_C = \\dfrac{1}{j\\omega C} = -\\dfrac{j}{\\omega C}$.\n",
    "- Inductor $L$: $Z_L = j\\omega L$.\n"
   ]
  },
  {
   "cell_type": "markdown",
   "id": "1c1152ce-2053-481b-83cd-085523fdb565",
   "metadata": {},
   "source": [
    "#### ECM 1: Internal Resistance\n",
    "\n",
    "$$Z(\\omega) = R_0$$\n",
    "\n",
    "**Nyquist:** a single point at $(Z',Z'')=(R_0,0)$.\n",
    "**Bode:** $|Z|=R_0$, phase $0^\\circ$ at all $f$.\n",
    "\n",
    "\n",
    "#### ECM 2: Parallel R-C\n",
    "\n",
    "The complex impedance is given by:\n",
    "\n",
    "$$\n",
    "Z(\\omega) = = \\frac{1}{\\dfrac{1}{R} + j\\omega C} = \\frac{R}{1 + j\\omega R C}\n",
    "$$\n",
    "\n",
    "Define the dimensionless frequency $x \\equiv \\omega \\tau$ with $\\tau \\equiv R C$.\n",
    "\n",
    "Then\n",
    "\n",
    "$$\n",
    "Z(\\omega) = \\frac{R}{1 + j x}.\n",
    "$$\n",
    "\n"
   ]
  },
  {
   "cell_type": "markdown",
   "id": "b00e0fa0-49be-4969-9b8c-ab24a238e07d",
   "metadata": {},
   "source": [
    "Multiply numerator and denominator by the complex conjugate to obtain the real and imaginary parts:\n",
    "\n",
    "$$\n",
    "Z(\\omega) = \\frac{R(1 - j x)}{1 + x^2}\n",
    "\\quad\\Rightarrow\\quad\n",
    "\\begin{aligned}\n",
    "Z'(\\omega) &= \\Re\\{Z\\} = \\frac{R}{1 + x^2},\\\\[6pt]\n",
    "Z''(\\omega) &= \\Im\\{Z\\} = -\\,\\frac{R x}{1 + x^2}.\n",
    "\\end{aligned}\n",
    "$$\n",
    "\n",
    "*Magnitude and phase*\n",
    "\n",
    "$$\n",
    "|Z(\\omega)| = \\frac{R}{\\sqrt{1 + x^2}} = \\frac{R}{\\sqrt{1 + (\\omega R C)^2}},\n",
    "\\qquad\n",
    "\\phi(\\omega) = \\arg Z = -\\arctan(x) = -\\arctan(\\omega R C).\n",
    "$$\n",
    "\n",
    "*Low/high frequency limits*\n",
    "\n",
    "$$\n",
    "\\omega \\to 0: \\quad Z(\\omega)\\to R \\quad(\\text{capacitor open -- branch is resistive}),\n",
    "$$\n",
    "\n",
    "$$\n",
    "\\omega \\to \\infty: \\quad Z(\\omega)\\to 0 \\quad(\\text{capacitor short -- branch short-circuits}).\n",
    "$$\n"
   ]
  },
  {
   "cell_type": "markdown",
   "id": "efc59976-4895-4d07-8e40-3fa63b3e4083",
   "metadata": {},
   "source": [
    "\n",
    "*Nyquist (parametric) form*\n",
    "\n",
    "Parametrically the Nyquist plot is\n",
    "\n",
    "$$\n",
    "\\big( Z'(\\omega),\\; -Z''(\\omega) \\big)\n",
    "= \\left( \\frac{R}{1+x^2},\\; \\frac{R x}{1+x^2} \\right),\\qquad x\\in[0,\\infty).\n",
    "$$\n",
    "\n",
    "This parameterization traces a semicircle: algebraically one finds\n",
    "\n",
    "$$\n",
    "\\Big(Z' - \\frac{R}{2}\\Big)^2 + (Z'')^2 = \\frac{R^2}{4},\n",
    "$$\n",
    "\n",
    "i.e. a circle centered at $\\big(\\frac{R}{2},\\,0\\big)$ with radius $R/2$.  Since $Z''\\le0$ the physical branch produces the lower half of the circle (negative imaginary axis).  The semicircle center and radius make the parallel $R\\parallel C$ useful pedagogically: it produces a single ideal semicircle in Nyquist without needing an explicit series resistor. Adding a series $R_0$ simply translates the circle right by $R_0$.\n",
    "\n",
    "![eis](./images/testing/eis.png)\n",
    "\n"
   ]
  },
  {
   "cell_type": "code",
   "execution_count": null,
   "id": "f57654ac-3f7c-4ea5-9fb1-98d3f8112a81",
   "metadata": {},
   "outputs": [],
   "source": []
  }
 ],
 "metadata": {
  "kernelspec": {
   "display_name": "Python 3 (ipykernel)",
   "language": "python",
   "name": "python3"
  },
  "language_info": {
   "codemirror_mode": {
    "name": "ipython",
    "version": 3
   },
   "file_extension": ".py",
   "mimetype": "text/x-python",
   "name": "python",
   "nbconvert_exporter": "python",
   "pygments_lexer": "ipython3",
   "version": "3.13.3"
  }
 },
 "nbformat": 4,
 "nbformat_minor": 5
}